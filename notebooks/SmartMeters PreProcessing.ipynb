{
 "cells": [
  {
   "cell_type": "markdown",
   "id": "6f804b43",
   "metadata": {},
   "source": [
    "# Pre- Processing the Files of Smart dataset"
   ]
  },
  {
   "cell_type": "code",
   "execution_count": 1,
   "id": "a888c78d",
   "metadata": {},
   "outputs": [
    {
     "name": "stderr",
     "output_type": "stream",
     "text": [
      "<ipython-input-1-011295c32d88>:3: FutureWarning: The pandas.datetime class is deprecated and will be removed from pandas in a future version. Import from datetime module instead.\n",
      "  from pandas import datetime\n"
     ]
    }
   ],
   "source": [
    "import pandas as pd\n",
    "import numpy as np\n",
    "from pandas import datetime\n",
    "import matplotlib.pyplot as plt\n",
    "import os"
   ]
  },
  {
   "cell_type": "code",
   "execution_count": 2,
   "id": "1cc4d596",
   "metadata": {},
   "outputs": [],
   "source": [
    "# Combining all blocks\n",
    "for num in range(0,112):\n",
    "    df = pd.read_csv(\"daily_dataset/daily_dataset/block_\"+str(num)+\".csv\")\n",
    "    df = df[['day','LCLid','energy_sum']]\n",
    "    df.reset_index()\n",
    "    df.to_csv(\"hc_\"+str(num)+\".csv\")\n",
    "\n",
    "fout= open(\"energy.csv\",\"a\")\n",
    "# first file:\n",
    "for line in open(\"hc_0.csv\"):\n",
    "    fout.write(line)\n",
    "# now the rest:    \n",
    "for num in range(0,112):\n",
    "    f = open(\"hc_\"+str(num)+\".csv\")\n",
    "    f.readline() \n",
    "    for line in f:\n",
    "         fout.write(line)\n",
    "    f.close()\n",
    "fout.close()"
   ]
  },
  {
   "cell_type": "code",
   "execution_count": null,
   "id": "41af92dc",
   "metadata": {},
   "outputs": [],
   "source": []
  }
 ],
 "metadata": {
  "kernelspec": {
   "display_name": "Python 3",
   "language": "python",
   "name": "python3"
  },
  "language_info": {
   "codemirror_mode": {
    "name": "ipython",
    "version": 3
   },
   "file_extension": ".py",
   "mimetype": "text/x-python",
   "name": "python",
   "nbconvert_exporter": "python",
   "pygments_lexer": "ipython3",
   "version": "3.8.8"
  }
 },
 "nbformat": 4,
 "nbformat_minor": 5
}
